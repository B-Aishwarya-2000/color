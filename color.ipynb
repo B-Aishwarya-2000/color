{
  "nbformat": 4,
  "nbformat_minor": 0,
  "metadata": {
    "colab": {
      "name": "color.ipynb",
      "provenance": [],
      "collapsed_sections": [],
      "authorship_tag": "ABX9TyMdxv5Qp9tNznG7UaekCPRs",
      "include_colab_link": true
    },
    "kernelspec": {
      "name": "python3",
      "display_name": "Python 3"
    },
    "language_info": {
      "name": "python"
    }
  },
  "cells": [
    {
      "cell_type": "markdown",
      "metadata": {
        "id": "view-in-github",
        "colab_type": "text"
      },
      "source": [
        "<a href=\"https://colab.research.google.com/github/B-Aishwarya-2000/color/blob/main/color.ipynb\" target=\"_parent\"><img src=\"https://colab.research.google.com/assets/colab-badge.svg\" alt=\"Open In Colab\"/></a>"
      ]
    },
    {
      "cell_type": "code",
      "metadata": {
        "colab": {
          "base_uri": "https://localhost:8080/"
        },
        "id": "R9sIfEc6b2Bb",
        "outputId": "4c5b073d-dc49-4bd9-b128-bc39ba74718d"
      },
      "source": [
        "!pip install webcolors"
      ],
      "execution_count": 24,
      "outputs": [
        {
          "output_type": "stream",
          "text": [
            "Requirement already satisfied: webcolors in /usr/local/lib/python3.7/dist-packages (1.11.1)\n"
          ],
          "name": "stdout"
        }
      ]
    },
    {
      "cell_type": "code",
      "metadata": {
        "id": "-Eatl_4eKmj3"
      },
      "source": [
        "from sklearn.cluster import KMeans\n",
        "from sklearn.metrics import mean_squared_error\n",
        "import matplotlib.pyplot as plt\n",
        "import numpy as np\n",
        "import cv2\n",
        "import sys\n",
        "import glob\n",
        "import webcolors\n",
        "from collections import Counter\n",
        "from skimage.color import rgb2lab, deltaE_cie76\n",
        "import os\n",
        "\n",
        "%matplotlib inline"
      ],
      "execution_count": 28,
      "outputs": []
    },
    {
      "cell_type": "code",
      "metadata": {
        "id": "Cg9W9JtZOXP9"
      },
      "source": [
        "def RGB2HEX(color):\n",
        "    return \"#{:02x}{:02x}{:02x}\".format(int(color[0]), int(color[1]), int(color[2]))"
      ],
      "execution_count": 14,
      "outputs": []
    },
    {
      "cell_type": "code",
      "metadata": {
        "id": "pvvMLwmwSIhf"
      },
      "source": [
        "def hex2name(c):\n",
        "    h_color = '#{:02x}{:02x}{:02x}'.format(int(c[0]), int(c[1]), int(c[2]))\n",
        "    try:\n",
        "        nm = webcolors.hex_to_name(h_color, spec='css3')\n",
        "    except ValueError as v_error:\n",
        "        #print(\"{}\".format(v_error))\n",
        "        rms_lst = []\n",
        "        for img_clr, img_hex in webcolors.CSS3_NAMES_TO_HEX.items():\n",
        "            cur_clr = webcolors.hex_to_rgb(img_hex)\n",
        "            rmse = np.sqrt(mean_squared_error(c, cur_clr))\n",
        "            rms_lst.append(rmse)\n",
        "\n",
        "        closest_color = rms_lst.index(min(rms_lst))\n",
        "\n",
        "        nm = list(webcolors.CSS3_NAMES_TO_HEX.items())[closest_color][0]\n",
        "    return nm"
      ],
      "execution_count": 32,
      "outputs": []
    },
    {
      "cell_type": "code",
      "metadata": {
        "id": "Sf5jDKjvPrte"
      },
      "source": [
        "def get_colors(img,number_of_colors,show_chart):\n",
        "  modified_image = img.reshape(img.shape[0]*img.shape[1], 3)\n",
        "  clf = KMeans(n_clusters = number_of_colors)\n",
        "  labels = clf.fit_predict(modified_image)\n",
        "  #print(\"labels\")\n",
        "  counts = Counter(labels)\n",
        "  #print(counts)\n",
        "\n",
        "  center_colors = clf.cluster_centers_\n",
        "  # We get ordered colors by iterating through the keys\n",
        "  ordered_colors = [center_colors[i] for i in counts.keys()]\n",
        "  hex_colors = [RGB2HEX(ordered_colors[i]) for i in counts.keys()]\n",
        "  rgb_colors = [ordered_colors[i] for i in counts.keys()]\n",
        "  lbl_colors = [hex2name(ordered_colors[i]) for i in counts.keys()]\n",
        "  #print(ordered_colors)\n",
        "\n",
        "  if (show_chart):\n",
        "      plt.figure(figsize = (8, 6))\n",
        "      plt.pie(counts.values(), labels = lbl_colors, colors = hex_colors)\n",
        "\n",
        "  return rgb_colors\n",
        "    \n"
      ],
      "execution_count": 30,
      "outputs": []
    },
    {
      "cell_type": "code",
      "metadata": {
        "id": "63s_XHLbRM--"
      },
      "source": [
        "def get_image(image_path):\n",
        "    image = cv2.imread(image_path)\n",
        "    image = cv2.cvtColor(image, cv2.COLOR_BGR2RGB)\n",
        "    return image"
      ],
      "execution_count": 44,
      "outputs": []
    },
    {
      "cell_type": "code",
      "metadata": {
        "colab": {
          "base_uri": "https://localhost:8080/",
          "height": 444
        },
        "id": "_fWBVVRsNaTM",
        "outputId": "a599cff0-a952-4ae4-b02e-fce1364ffded"
      },
      "source": [
        "get_colors(get_image('/content/rangoli.jpg'), 5, True)"
      ],
      "execution_count": 45,
      "outputs": [
        {
          "output_type": "execute_result",
          "data": {
            "text/plain": [
              "[array([126.65463189, 103.29611512, 102.16332499]),\n",
              " array([226.78376705, 173.76895563, 135.68570446]),\n",
              " array([68.87593894, 25.05591694, 52.17997801]),\n",
              " array([181.66818379,  41.90282293, 128.01297681]),\n",
              " array([174.83729208,  52.23295148,  34.43205402])]"
            ]
          },
          "metadata": {
            "tags": []
          },
          "execution_count": 45
        },
        {
          "output_type": "display_data",
          "data": {
            "image/png": "[encoded data removed]",
            "text/plain": [
              "<Figure size 576x432 with 1 Axes>"
            ]
          },
          "metadata": {
            "tags": []
          }
        }
      ]
    }
  ]
}